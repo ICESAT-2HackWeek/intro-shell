{
 "cells": [
  {
   "cell_type": "markdown",
   "metadata": {},
   "source": [
    "# Introduction to the Shell"
   ]
  },
  {
   "cell_type": "markdown",
   "metadata": {},
   "source": [
    "![Terminal](images/terminal.png)"
   ]
  },
  {
   "cell_type": "markdown",
   "metadata": {},
   "source": [
    "## What is the Shell?"
   ]
  },
  {
   "cell_type": "markdown",
   "metadata": {},
   "source": [
    "The shell is a program that takes commands from the keyboard and gives them to the operating system to perform. \n",
    "\n",
    "It is the outermost layer of the OS, so it is a user interface to access the OS, through a *graphical user interface* (GUI) or through a *command line interface* (CLI).\n",
    "\n",
    "On most linux systems a program called `bash` acts as the Shell program. There are also other Shell programs besides `bash` (like the different browsers we have to interact with the internet)."
   ]
  },
  {
   "cell_type": "markdown",
   "metadata": {},
   "source": [
    "## What is a Terminal?"
   ]
  },
  {
   "cell_type": "markdown",
   "metadata": {},
   "source": [
    "The *terminal emulator* is another program that opens a window and lets you interact with the Shell.\n",
    "\n",
    "Just like the Shell, there are a bunch of different *terminal emulator* programs that you can use.\n",
    "\n",
    "The Terminal is synonymous with the *command line* or *command prompt*. "
   ]
  },
  {
   "cell_type": "markdown",
   "metadata": {},
   "source": [
    "## What are Shell Scripts? "
   ]
  },
  {
   "cell_type": "markdown",
   "metadata": {},
   "source": [
    "A shell script is a file containing a series of commands. The shell reads this file and carries out the commands (as if they were entered on the command line).\n",
    "\n",
    "The shell is somewhat unique, in that it is both a powerful **command line interface to the system** and a **scripting language interpreter**. "
   ]
  },
  {
   "cell_type": "markdown",
   "metadata": {},
   "source": [
    "## What are some basic commands?"
   ]
  },
  {
   "cell_type": "markdown",
   "metadata": {},
   "source": [
    "- Open a terminal in JupyterLab\n",
    "- Some basic commands: `pwd`, `ls`, `cd`, `mkdir`, `echo`, `mv`, `cp`, `cat`, `rm`\n",
    "- Read the docs for each command: `man command` \n",
    "- Tab-completion and history search\n",
    "- Run above commands from Notebook cells: `!pwd`, `!ls`, `!cd` ...\n",
    "- Run commands from a shell script"
   ]
  },
  {
   "cell_type": "markdown",
   "metadata": {},
   "source": [
    "Run the following commands on the Terminal\n",
    "\n",
    "```\n",
    "pwd\n",
    "ls\n",
    "ls -1\n",
    "ls -l\n",
    "ls -a\n",
    "cd ~\n",
    "pwd\n",
    "ls\n",
    "cd -\n",
    "cd ..\n",
    "pwd\n",
    "ls\n",
    "cd -\n",
    "echo 'this text is printed on the screen'\n",
    "echo 'this text is saved to a file' > file.txt\n",
    "echo 'this is another line of text' >> file.txt\n",
    "cat file.txt\n",
    "cp file.txt file2.txt\n",
    "mkdir test\n",
    "mv file2.txt test/file3.txt\n",
    "cat test/file3.txt\n",
    "rm test/*\n",
    "rmdir test\n",
    "```"
   ]
  },
  {
   "cell_type": "markdown",
   "metadata": {},
   "source": [
    "Read the documentation (manual pages) of each command\n",
    "```\n",
    "man pwd\n",
    "man ls\n",
    "man echo\n",
    "...\n",
    "```"
   ]
  },
  {
   "cell_type": "markdown",
   "metadata": {},
   "source": [
    "Run the same commands on a Notebook cell but adding a `!` in front if it   "
   ]
  },
  {
   "cell_type": "markdown",
   "metadata": {},
   "source": [
    "( this is the same as running on the Terminal but from a Notebook cell )"
   ]
  },
  {
   "cell_type": "code",
   "execution_count": 7,
   "metadata": {},
   "outputs": [
    {
     "name": "stdout",
     "output_type": "stream",
     "text": [
      "/Users/paolofer/work/is2hack20/intro-shell\n"
     ]
    }
   ],
   "source": [
    "!pwd"
   ]
  },
  {
   "cell_type": "code",
   "execution_count": 8,
   "metadata": {},
   "outputs": [
    {
     "name": "stdout",
     "output_type": "stream",
     "text": [
      "README.md\n",
      "commands.sh\n",
      "\u001b[1m\u001b[36mimages\u001b[m\u001b[m\n",
      "intro-shell.ipynb\n"
     ]
    }
   ],
   "source": [
    "!ls -1"
   ]
  },
  {
   "cell_type": "code",
   "execution_count": 9,
   "metadata": {},
   "outputs": [
    {
     "name": "stdout",
     "output_type": "stream",
     "text": [
      "Hello from the Notebook cell :)\n"
     ]
    }
   ],
   "source": [
    "!echo 'Hello from the Notebook cell :)'"
   ]
  },
  {
   "cell_type": "markdown",
   "metadata": {},
   "source": [
    "Another way to run Shell commands from a Notebook cell is using `%%bash`"
   ]
  },
  {
   "cell_type": "code",
   "execution_count": 10,
   "metadata": {},
   "outputs": [
    {
     "name": "stdout",
     "output_type": "stream",
     "text": [
      "drwxr-xr-x  3 paolofer  JPL\\Domain Users    96 Jun  9 18:46 images\n",
      "-rw-r--r--  1 paolofer  JPL\\Domain Users  5953 Jun  9 18:56 intro-shell.ipynb\n",
      "-rw-r--r--  1 paolofer  JPL\\Domain Users     0 Jun  9 18:56 output.txt\n",
      "       6\n",
      "output.txt:-rw-r--r--  1 paolofer  JPL\\Domain Users   310 Jun  9 13:43 commands.sh\n"
     ]
    }
   ],
   "source": [
    "%%bash\n",
    "\n",
    "# Dump the output of ls to a file \n",
    "ls -l >> output.txt\n",
    "\n",
    "# Show me the last 3 lines of the file\n",
    "tail -3 output.txt\n",
    "\n",
    "# Pipe the output of cat to wc, and count lines\n",
    "cat output.txt | wc -l\n",
    "\n",
    "# Find the word `commands` in files ending with *.txt\n",
    "grep -H commands *.txt\n",
    "\n",
    "# Remove the file we created\n",
    "rm output.txt"
   ]
  },
  {
   "cell_type": "markdown",
   "metadata": {},
   "source": [
    "Now run all the commands as a Shell script"
   ]
  },
  {
   "cell_type": "code",
   "execution_count": 13,
   "metadata": {},
   "outputs": [
    {
     "name": "stdout",
     "output_type": "stream",
     "text": [
      "pwd\n",
      "ls\n",
      "ls -1\n",
      "ls -l\n",
      "ls -a\n",
      "cd ~\n",
      "pwd\n",
      "ls\n",
      "cd -\n",
      "cd ..\n",
      "pwd\n",
      "ls\n",
      "cd -\n",
      "echo 'this text is printed on the screen'\n",
      "echo 'this text is saved to a file' > file.txt\n",
      "echo 'this is another line of text' >> file.txt\n",
      "cat file.txt\n",
      "cp file.txt file2.txt\n",
      "mkdir test\n",
      "mv file2.txt test/file3.txt\n",
      "cat test/file3.txt\n",
      "rm test/*\n",
      "rmdir test\n",
      "rm file.txt"
     ]
    }
   ],
   "source": [
    "!cat commands.sh"
   ]
  },
  {
   "cell_type": "code",
   "execution_count": 12,
   "metadata": {},
   "outputs": [
    {
     "name": "stdout",
     "output_type": "stream",
     "text": [
      "/Users/paolofer/work/is2hack20/intro-shell\n",
      "README.md         commands.sh       \u001b[1m\u001b[36mimages\u001b[m\u001b[m            intro-shell.ipynb\n",
      "README.md\n",
      "commands.sh\n",
      "\u001b[1m\u001b[36mimages\u001b[m\u001b[m\n",
      "intro-shell.ipynb\n",
      "total 32\n",
      "-rw-r--r--  1 paolofer  JPL\\Domain Users   458 Jun  9 18:12 README.md\n",
      "-rw-r--r--  1 paolofer  JPL\\Domain Users   310 Jun  9 13:43 commands.sh\n",
      "drwxr-xr-x  3 paolofer  JPL\\Domain Users    96 Jun  9 18:46 \u001b[1m\u001b[36mimages\u001b[m\u001b[m\n",
      "-rw-r--r--  1 paolofer  JPL\\Domain Users  5953 Jun  9 18:56 intro-shell.ipynb\n",
      "\u001b[1m\u001b[36m.\u001b[m\u001b[m                  \u001b[1m\u001b[36m.git\u001b[m\u001b[m               README.md          \u001b[1m\u001b[36mimages\u001b[m\u001b[m\n",
      "\u001b[1m\u001b[36m..\u001b[m\u001b[m                 \u001b[1m\u001b[36m.ipynb_checkpoints\u001b[m\u001b[m commands.sh        intro-shell.ipynb\n",
      "/Users/paolofer\n",
      "\u001b[31m--\u001b[m\u001b[m            \u001b[1m\u001b[36mMovies\u001b[m\u001b[m        \u001b[1m\u001b[36mcode\u001b[m\u001b[m          \u001b[1m\u001b[36mmeetings\u001b[m\u001b[m      \u001b[1m\u001b[36mproposals\u001b[m\u001b[m\n",
      "-nerd-font    \u001b[1m\u001b[36mMusic\u001b[m\u001b[m         \u001b[1m\u001b[36mcv\u001b[m\u001b[m            \u001b[1m\u001b[36mms\u001b[m\u001b[m            \u001b[1m\u001b[36mresources\u001b[m\u001b[m\n",
      "\u001b[1m\u001b[36mApplications\u001b[m\u001b[m  \u001b[1m\u001b[36mPictures\u001b[m\u001b[m      \u001b[1m\u001b[36mdata\u001b[m\u001b[m          \u001b[1m\u001b[36mmywebsite\u001b[m\u001b[m     \u001b[1m\u001b[36mseminars\u001b[m\u001b[m\n",
      "\u001b[1m\u001b[36mDesktop\u001b[m\u001b[m       \u001b[1m\u001b[36mPublic\u001b[m\u001b[m        \u001b[1m\u001b[36mdatasci\u001b[m\u001b[m       \u001b[1m\u001b[36mmywebsite_bak\u001b[m\u001b[m \u001b[1m\u001b[36mtalks\u001b[m\u001b[m\n",
      "\u001b[1m\u001b[36mDocuments\u001b[m\u001b[m     \u001b[1m\u001b[36mSites\u001b[m\u001b[m         \u001b[1m\u001b[36mgeohackweek\u001b[m\u001b[m   \u001b[1m\u001b[36mnobackup\u001b[m\u001b[m      \u001b[1m\u001b[36mtmp\u001b[m\u001b[m\n",
      "\u001b[1m\u001b[36mDownloads\u001b[m\u001b[m     \u001b[1m\u001b[36mVideos\u001b[m\u001b[m        \u001b[1m\u001b[36mgo\u001b[m\u001b[m            \u001b[1m\u001b[36mpackages\u001b[m\u001b[m      \u001b[1m\u001b[36mtravel\u001b[m\u001b[m\n",
      "\u001b[1m\u001b[36mDropbox\u001b[m\u001b[m       \u001b[1m\u001b[36malex\u001b[m\u001b[m          \u001b[1m\u001b[36minSync Share\u001b[m\u001b[m  \u001b[1m\u001b[36mphd\u001b[m\u001b[m           \u001b[1m\u001b[36mwork\u001b[m\u001b[m\n",
      "\u001b[1m\u001b[36mGoogle Drive\u001b[m\u001b[m  \u001b[1m\u001b[36manaconda3\u001b[m\u001b[m     \u001b[1m\u001b[36mmail\u001b[m\u001b[m          \u001b[1m\u001b[36mpostdoc\u001b[m\u001b[m\n",
      "\u001b[1m\u001b[36mLibrary\u001b[m\u001b[m       \u001b[1m\u001b[36mbin\u001b[m\u001b[m           \u001b[1m\u001b[36mmedia\u001b[m\u001b[m         \u001b[1m\u001b[36mposters\u001b[m\u001b[m\n",
      "/Users/paolofer/work/is2hack20/intro-shell\n",
      "/Users/paolofer/work/is2hack20\n",
      "README.md   \u001b[1m\u001b[36mdocs\u001b[m\u001b[m        \u001b[1m\u001b[36mintro-git\u001b[m\u001b[m   \u001b[1m\u001b[36mintro-hdf5\u001b[m\u001b[m  \u001b[1m\u001b[36mintro-shell\u001b[m\u001b[m\n",
      "/Users/paolofer/work/is2hack20/intro-shell\n",
      "this text is printed on the screen\n",
      "this text is saved to a file\n",
      "this is another line of text\n"
     ]
    }
   ],
   "source": [
    "!sh commands.sh"
   ]
  },
  {
   "cell_type": "markdown",
   "metadata": {},
   "source": [
    "## Bash Shell Reference\n",
    "\n",
    "[Cheatsheet](https://courses.cs.washington.edu/courses/cse390a/14au/bash.html) with a summary of the most common Bash commands."
   ]
  }
 ],
 "metadata": {
  "kernelspec": {
   "display_name": "Python 3",
   "language": "python",
   "name": "python3"
  },
  "language_info": {
   "codemirror_mode": {
    "name": "ipython",
    "version": 3
   },
   "file_extension": ".py",
   "mimetype": "text/x-python",
   "name": "python",
   "nbconvert_exporter": "python",
   "pygments_lexer": "ipython3",
   "version": "3.7.4"
  }
 },
 "nbformat": 4,
 "nbformat_minor": 4
}
