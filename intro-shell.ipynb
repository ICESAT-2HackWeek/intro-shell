{
 "cells": [
  {
   "cell_type": "markdown",
   "metadata": {},
   "source": [
    "# Introduction to the Shell"
   ]
  },
  {
   "cell_type": "markdown",
   "metadata": {},
   "source": [
    "## What is the Shell?"
   ]
  },
  {
   "cell_type": "markdown",
   "metadata": {},
   "source": [
    "The shell is a program that takes commands from the keyboard and gives them to the operating system to perform. \n",
    "\n",
    "It is a user interface to interact with the OS, like a *graphical user interface* (GUI) but through the *command line* (CLI).\n",
    "\n",
    "On most linux systems a program called `bash` acts as the Shell program. There are also other Shell programs besides `bash` (like the different browsers we have to interact with the internet)."
   ]
  },
  {
   "cell_type": "markdown",
   "metadata": {},
   "source": [
    "## What is a Terminal?"
   ]
  },
  {
   "cell_type": "markdown",
   "metadata": {},
   "source": [
    "The *terminal emulator* is another program that opens a window an lets you interact with the Shell.\n",
    "\n",
    "Just like the Shell, there are a bunch of different *terminal emulator* programs that you can use.\n",
    "\n",
    "The Terminal is synonym with the *command line* or *command prompt*. "
   ]
  },
  {
   "cell_type": "markdown",
   "metadata": {},
   "source": [
    "## What are Shell Scripts? "
   ]
  },
  {
   "cell_type": "markdown",
   "metadata": {},
   "source": [
    "A shell script is a file containing a series of commands. The shell reads this file and carries out the commands (as if they were entered on the command line).\n",
    "\n",
    "The shell is somewhat unique, in that it is both a powerful **command line interface to the system** and a **scripting language interpreter**. "
   ]
  },
  {
   "cell_type": "markdown",
   "metadata": {},
   "source": [
    "## Show me some basic operations "
   ]
  },
  {
   "cell_type": "markdown",
   "metadata": {},
   "source": [
    "- Open a terminal in JupyterLab\n",
    "- Some basic commands: `pwd`, `ls`, `cd`, `mkdir`, `echo`, `mv`, `cat`, `rm`\n",
    "- Man pages: `man command` \n",
    "- Tab-completion and history search\n",
    "- Run above commands from Notebook cells: `!pwd`, `!ls`, `!cd` ...\n",
    "- Run commands from a shell script"
   ]
  },
  {
   "cell_type": "code",
   "execution_count": 11,
   "metadata": {},
   "outputs": [
    {
     "name": "stdout",
     "output_type": "stream",
     "text": [
      "/Users/paolofer/work/is2hack20/intro-shell\n",
      "README.md         commands.sh       intro-shell.ipynb \u001b[1m\u001b[36mtest\u001b[m\u001b[m\n",
      "README.md\n",
      "commands.sh\n",
      "intro-shell.ipynb\n",
      "\u001b[1m\u001b[36mtest\u001b[m\u001b[m\n",
      "total 32\n",
      "-rw-r--r--  1 paolofer  JPL\\Domain Users    54 Jun  2 12:15 README.md\n",
      "-rw-r--r--  1 paolofer  JPL\\Domain Users   222 Jun  3 14:26 commands.sh\n",
      "-rw-r--r--  1 paolofer  JPL\\Domain Users  6047 Jun  3 14:29 intro-shell.ipynb\n",
      "drwxr-xr-x  3 paolofer  JPL\\Domain Users    96 Jun  3 14:28 \u001b[1m\u001b[36mtest\u001b[m\u001b[m\n",
      "/Users/paolofer\n",
      "\u001b[31m--\u001b[m\u001b[m            \u001b[1m\u001b[36mMovies\u001b[m\u001b[m        \u001b[1m\u001b[36mcode\u001b[m\u001b[m          \u001b[1m\u001b[36mmeetings\u001b[m\u001b[m      \u001b[1m\u001b[36mproposals\u001b[m\u001b[m\n",
      "-nerd-font    \u001b[1m\u001b[36mMusic\u001b[m\u001b[m         \u001b[1m\u001b[36mcv\u001b[m\u001b[m            \u001b[1m\u001b[36mms\u001b[m\u001b[m            \u001b[1m\u001b[36mresources\u001b[m\u001b[m\n",
      "\u001b[1m\u001b[36mApplications\u001b[m\u001b[m  \u001b[1m\u001b[36mPictures\u001b[m\u001b[m      \u001b[1m\u001b[36mdata\u001b[m\u001b[m          \u001b[1m\u001b[36mmywebsite\u001b[m\u001b[m     \u001b[1m\u001b[36mseminars\u001b[m\u001b[m\n",
      "\u001b[1m\u001b[36mDesktop\u001b[m\u001b[m       \u001b[1m\u001b[36mPublic\u001b[m\u001b[m        \u001b[1m\u001b[36mdatasci\u001b[m\u001b[m       \u001b[1m\u001b[36mmywebsite_bak\u001b[m\u001b[m \u001b[1m\u001b[36mtalks\u001b[m\u001b[m\n",
      "\u001b[1m\u001b[36mDocuments\u001b[m\u001b[m     \u001b[1m\u001b[36mSites\u001b[m\u001b[m         \u001b[1m\u001b[36mgeohackweek\u001b[m\u001b[m   \u001b[1m\u001b[36mnobackup\u001b[m\u001b[m      \u001b[1m\u001b[36mtmp\u001b[m\u001b[m\n",
      "\u001b[1m\u001b[36mDownloads\u001b[m\u001b[m     \u001b[1m\u001b[36mVideos\u001b[m\u001b[m        \u001b[1m\u001b[36mgo\u001b[m\u001b[m            \u001b[1m\u001b[36mpackages\u001b[m\u001b[m      \u001b[1m\u001b[36mtravel\u001b[m\u001b[m\n",
      "\u001b[1m\u001b[36mDropbox\u001b[m\u001b[m       \u001b[1m\u001b[36malex\u001b[m\u001b[m          \u001b[1m\u001b[36minSync Share\u001b[m\u001b[m  \u001b[1m\u001b[36mphd\u001b[m\u001b[m           \u001b[1m\u001b[36mwork\u001b[m\u001b[m\n",
      "\u001b[1m\u001b[36mGoogle Drive\u001b[m\u001b[m  \u001b[1m\u001b[36manaconda3\u001b[m\u001b[m     \u001b[1m\u001b[36mmail\u001b[m\u001b[m          \u001b[1m\u001b[36mpostdoc\u001b[m\u001b[m\n",
      "\u001b[1m\u001b[36mLibrary\u001b[m\u001b[m       \u001b[1m\u001b[36mbin\u001b[m\u001b[m           \u001b[1m\u001b[36mmedia\u001b[m\u001b[m         \u001b[1m\u001b[36mposters\u001b[m\u001b[m\n",
      "/Users/paolofer/work/is2hack20/intro-shell\n",
      "/Users/paolofer/work/is2hack20\n",
      "\u001b[1m\u001b[36mdocs\u001b[m\u001b[m        \u001b[1m\u001b[36mintro-hdf5\u001b[m\u001b[m  \u001b[1m\u001b[36mintro-shell\u001b[m\u001b[m\n",
      "/Users/paolofer/work/is2hack20/intro-shell\n",
      "mkdir: test: File exists\n",
      "this text is printed on the screen\n",
      "this text is saved to a file\n"
     ]
    }
   ],
   "source": [
    "!sh commands.sh"
   ]
  },
  {
   "cell_type": "code",
   "execution_count": null,
   "metadata": {},
   "outputs": [],
   "source": []
  }
 ],
 "metadata": {
  "kernelspec": {
   "display_name": "Python 3",
   "language": "python",
   "name": "python3"
  },
  "language_info": {
   "codemirror_mode": {
    "name": "ipython",
    "version": 3
   },
   "file_extension": ".py",
   "mimetype": "text/x-python",
   "name": "python",
   "nbconvert_exporter": "python",
   "pygments_lexer": "ipython3",
   "version": "3.7.4"
  }
 },
 "nbformat": 4,
 "nbformat_minor": 4
}
